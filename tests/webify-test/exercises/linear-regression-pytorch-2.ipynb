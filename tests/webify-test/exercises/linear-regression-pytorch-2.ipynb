{
 "cells": [
  {
   "cell_type": "markdown",
   "metadata": {},
   "source": [
    "# Linear Regression using PyTorch"
   ]
  },
  {
   "cell_type": "code",
   "execution_count": 81,
   "metadata": {},
   "outputs": [],
   "source": [
    "import matplotlib.pyplot as plt\n",
    "%matplotlib inline\n",
    "import numpy as np"
   ]
  },
  {
   "cell_type": "code",
   "execution_count": 82,
   "metadata": {},
   "outputs": [
    {
     "data": {
      "image/png": "[encoded data removed]",
      "text/plain": [
       "<Figure size 432x288 with 1 Axes>"
      ]
     },
     "metadata": {},
     "output_type": "display_data"
    }
   ],
   "source": [
    "N = 10 # number of data points\n",
    "m = .7\n",
    "c = 0\n",
    "x = np.linspace(0,2*np.pi,N)\n",
    "y = m*x + c + np.random.normal(0,.3,x.shape)\n",
    "plt.figure()\n",
    "plt.plot(x,y,'o')\n",
    "plt.xlabel('x')\n",
    "plt.ylabel('y')\n",
    "plt.title('2D data (#data = %d)' % N)\n",
    "plt.show()"
   ]
  },
  {
   "cell_type": "code",
   "execution_count": 83,
   "metadata": {},
   "outputs": [],
   "source": [
    "import torch"
   ]
  },
  {
   "cell_type": "markdown",
   "metadata": {},
   "source": [
    "## Dataset"
   ]
  },
  {
   "cell_type": "code",
   "execution_count": 84,
   "metadata": {},
   "outputs": [],
   "source": [
    "from torch.utils.data import Dataset\n",
    "class MyDataset(Dataset):\n",
    "    def __init__(self, x, y):\n",
    "        self.x = x\n",
    "        self.y = y\n",
    "        \n",
    "    def __len__(self):\n",
    "        return len(self.x)\n",
    "    \n",
    "    def __getitem__(self, idx):\n",
    "        sample = {\n",
    "            'feature': torch.tensor([1,self.x[idx]]), \n",
    "            'label': torch.tensor([self.y[idx]])}\n",
    "        return sample"
   ]
  },
  {
   "cell_type": "code",
   "execution_count": 85,
   "metadata": {},
   "outputs": [
    {
     "name": "stdout",
     "output_type": "stream",
     "text": [
      "0 tensor([1., 0.]) tensor([-0.3616])\n",
      "1 tensor([1.0000, 0.6981]) tensor([0.9284])\n",
      "2 tensor([1.0000, 1.3963]) tensor([0.8178])\n",
      "3 tensor([1.0000, 2.0944]) tensor([1.2363])\n",
      "4 tensor([1.0000, 2.7925]) tensor([2.1312])\n",
      "5 tensor([1.0000, 3.4907]) tensor([2.9595])\n",
      "6 tensor([1.0000, 4.1888]) tensor([2.9616])\n",
      "7 tensor([1.0000, 4.8869]) tensor([3.2856])\n",
      "8 tensor([1.0000, 5.5851]) tensor([4.1204])\n",
      "9 tensor([1.0000, 6.2832]) tensor([4.4299])\n"
     ]
    }
   ],
   "source": [
    "dataset = MyDataset(x, y)\n",
    "for i in range(len(dataset)):\n",
    "    sample = dataset[i]\n",
    "    print(i, sample['feature'], sample['label'])"
   ]
  },
  {
   "cell_type": "markdown",
   "metadata": {},
   "source": [
    "## Dataloader"
   ]
  },
  {
   "cell_type": "code",
   "execution_count": 86,
   "metadata": {},
   "outputs": [],
   "source": [
    "from torch.utils.data import DataLoader\n",
    "\n",
    "dataset = MyDataset(x, y)\n",
    "batch_size = 4\n",
    "shuffle = True\n",
    "num_workers = 4\n",
    "dataloader = DataLoader(dataset, batch_size=batch_size, shuffle=shuffle, num_workers=num_workers)"
   ]
  },
  {
   "cell_type": "code",
   "execution_count": 87,
   "metadata": {},
   "outputs": [
    {
     "name": "stdout",
     "output_type": "stream",
     "text": [
      "\n",
      "batch# = 0\n",
      "samples: \n",
      "{'feature': tensor([[1.0000, 4.8869],\n",
      "        [1.0000, 0.0000],\n",
      "        [1.0000, 6.2832],\n",
      "        [1.0000, 2.7925]]),\n",
      " 'label': tensor([[ 3.2856],\n",
      "        [-0.3616],\n",
      "        [ 4.4299],\n",
      "        [ 2.1312]])}\n",
      "\n",
      "batch# = 1\n",
      "samples: \n",
      "{'feature': tensor([[1.0000, 0.6981],\n",
      "        [1.0000, 4.1888],\n",
      "        [1.0000, 2.0944],\n",
      "        [1.0000, 5.5851]]),\n",
      " 'label': tensor([[0.9284],\n",
      "        [2.9616],\n",
      "        [1.2363],\n",
      "        [4.1204]])}\n",
      "\n",
      "batch# = 2\n",
      "samples: \n",
      "{'feature': tensor([[1.0000, 1.3963],\n",
      "        [1.0000, 3.4907]]),\n",
      " 'label': tensor([[0.8178],\n",
      "        [2.9595]])}\n"
     ]
    }
   ],
   "source": [
    "import pprint as pp\n",
    "for i_batch, samples in enumerate(dataloader):\n",
    "    print('\\nbatch# = %s' % i_batch)\n",
    "    print('samples: ')\n",
    "    pp.pprint(samples)"
   ]
  },
  {
   "cell_type": "markdown",
   "metadata": {},
   "source": [
    "## Model"
   ]
  },
  {
   "cell_type": "code",
   "execution_count": 88,
   "metadata": {},
   "outputs": [],
   "source": [
    "import torch.nn as nn\n",
    "from torch.nn.parameter import Parameter\n",
    "class MyModel(nn.Module):\n",
    "    def __init__(self, input_dim, output_dim):\n",
    "        super(MyModel, self).__init__()\n",
    "        \n",
    "        self.weight = Parameter(torch.Tensor(output_dim, input_dim))\n",
    "        self.bias = Parameter(torch.Tensor(output_dim, 1))\n",
    "        \n",
    "        stdv = 1.\n",
    "        self.weight.data.uniform_(-stdv, stdv)\n",
    "        self.bias.data.uniform_(-stdv, stdv)\n",
    "        \n",
    "    def forward(self, x):\n",
    "        weight_and_bias = torch.cat((self.weight, self.bias), 1)\n",
    "        #print(weight_and_bias)\n",
    "        #print(weight_and_bias.t().shape)\n",
    "        #print(x.shape)\n",
    "        #print(self.weight.size())\n",
    "        \n",
    "        out = x.matmul(weight_and_bias.t())\n",
    "        return out"
   ]
  },
  {
   "cell_type": "markdown",
   "metadata": {},
   "source": [
    "### Setting a model for our problem"
   ]
  },
  {
   "cell_type": "code",
   "execution_count": 89,
   "metadata": {},
   "outputs": [
    {
     "data": {
      "text/plain": [
       "tensor([[-0.2284],\n",
       "        [-0.2998],\n",
       "        [-0.3345],\n",
       "        [-0.4379],\n",
       "        [-0.4926]], grad_fn=<MmBackward>)"
      ]
     },
     "execution_count": 89,
     "metadata": {},
     "output_type": "execute_result"
    }
   ],
   "source": [
    "input_dim = 1\n",
    "output_dim = 1\n",
    "\n",
    "model = MyModel(input_dim, output_dim)\n",
    "\n",
    "model(torch.rand([5,2]))"
   ]
  },
  {
   "cell_type": "markdown",
   "metadata": {},
   "source": [
    "## Cost function\n",
    "\n",
    "Often called loss or error"
   ]
  },
  {
   "cell_type": "code",
   "execution_count": 90,
   "metadata": {},
   "outputs": [],
   "source": [
    "cost = nn.MSELoss()"
   ]
  },
  {
   "cell_type": "markdown",
   "metadata": {},
   "source": [
    "## Minimizing the cost function\n",
    "\n",
    "In other words training (or learning from data)"
   ]
  },
  {
   "cell_type": "code",
   "execution_count": 91,
   "metadata": {},
   "outputs": [
    {
     "name": "stdout",
     "output_type": "stream",
     "text": [
      "Epoch = 0\n",
      "\tBatch = 0, Error = 16.70507049560547\n",
      "\tBatch = 1, Error = 8.13081169128418\n",
      "\tBatch = 2, Error = 5.611606597900391\n",
      "Epoch = 10\n",
      "\tBatch = 0, Error = 0.038061268627643585\n",
      "\tBatch = 1, Error = 0.07505239546298981\n",
      "\tBatch = 2, Error = 0.15835535526275635\n",
      "Epoch = 20\n",
      "\tBatch = 0, Error = 0.08792252838611603\n",
      "\tBatch = 1, Error = 0.01075046882033348\n",
      "\tBatch = 2, Error = 0.1661089062690735\n",
      "Epoch = 30\n",
      "\tBatch = 0, Error = 0.05161896347999573\n",
      "\tBatch = 1, Error = 0.13463875651359558\n",
      "\tBatch = 2, Error = 0.015191728249192238\n",
      "Epoch = 40\n",
      "\tBatch = 0, Error = 0.017340095713734627\n",
      "\tBatch = 1, Error = 0.09204908460378647\n",
      "\tBatch = 2, Error = 0.15492799878120422\n",
      "Epoch = 50\n",
      "\tBatch = 0, Error = 0.08469688147306442\n",
      "\tBatch = 1, Error = 0.047444503754377365\n",
      "\tBatch = 2, Error = 0.13100163638591766\n",
      "Epoch = 60\n",
      "\tBatch = 0, Error = 0.02969956025481224\n",
      "\tBatch = 1, Error = 0.03639977052807808\n",
      "\tBatch = 2, Error = 0.24547162652015686\n",
      "Epoch = 70\n",
      "\tBatch = 0, Error = 0.06779415160417557\n",
      "\tBatch = 1, Error = 0.05017656832933426\n",
      "\tBatch = 2, Error = 0.12315119802951813\n",
      "Epoch = 80\n",
      "\tBatch = 0, Error = 0.016948500648140907\n",
      "\tBatch = 1, Error = 0.0982540100812912\n",
      "\tBatch = 2, Error = 0.14157924056053162\n",
      "Epoch = 90\n",
      "\tBatch = 0, Error = 0.028163764625787735\n",
      "\tBatch = 1, Error = 0.09572406113147736\n",
      "\tBatch = 2, Error = 0.11809004098176956\n"
     ]
    }
   ],
   "source": [
    "num_epochs = 100  # How many times the entire training data is seen?\n",
    "l_rate = 0.01\n",
    "optimiser = torch.optim.SGD(model.parameters(), lr = l_rate) \n",
    "\n",
    "dataset = MyDataset(x, y)\n",
    "batch_size = 4\n",
    "shuffle = True\n",
    "num_workers = 4\n",
    "training_sample_generator = DataLoader(dataset, batch_size=batch_size, shuffle=shuffle, num_workers=num_workers)\n",
    "\n",
    "for epoch in range(num_epochs):\n",
    "    if epoch % 10 == 0:\n",
    "        print('Epoch = %s' % epoch)\n",
    "    for batch_i, samples in enumerate(training_sample_generator):\n",
    "        predictions = model(samples['feature'])\n",
    "        error = cost(predictions, samples['label'])\n",
    "        if epoch % 10 == 0:\n",
    "            print('\\tBatch = %s, Error = %s' % (batch_i, error.item()))\n",
    "        \n",
    "        # Before the backward pass, use the optimizer object to zero all of the\n",
    "        # gradients for the variables it will update (which are the learnable\n",
    "        # weights of the model). This is because by default, gradients are\n",
    "        # accumulated in buffers( i.e, not overwritten) whenever .backward()\n",
    "        # is called. Checkout docs of torch.autograd.backward for more details.\n",
    "        optimiser.zero_grad()\n",
    "        \n",
    "        # Backward pass: compute gradient of the loss with respect to model\n",
    "        # parameters\n",
    "        error.backward()\n",
    "        \n",
    "        # Calling the step function on an Optimizer makes an update to its\n",
    "        # parameters\n",
    "        optimiser.step()"
   ]
  },
  {
   "cell_type": "markdown",
   "metadata": {},
   "source": [
    "## Lets see how well the model has learnt the data"
   ]
  },
  {
   "cell_type": "code",
   "execution_count": 92,
   "metadata": {},
   "outputs": [
    {
     "name": "stdout",
     "output_type": "stream",
     "text": [
      "Design matrix shape: torch.Size([1000, 2])\n",
      "y_for_plotting shape: torch.Size([1000, 1])\n"
     ]
    }
   ],
   "source": [
    "#from torch.autograd.variable import Variable\n",
    "\n",
    "x_for_plotting = np.linspace(0, 2*np.pi, 1000)\n",
    "design_matrix = torch.tensor(np.vstack([np.ones(x_for_plotting.shape), x_for_plotting]).T, dtype=torch.float32)\n",
    "#print('Design matrix:\\n', design_matrix)\n",
    "print('Design matrix shape:', design_matrix.shape)\n",
    "\n",
    "y_for_plotting = model.forward(design_matrix)\n",
    "print('y_for_plotting shape:', y_for_plotting.shape)"
   ]
  },
  {
   "cell_type": "code",
   "execution_count": 93,
   "metadata": {},
   "outputs": [
    {
     "data": {
      "image/png": "[encoded data removed]",
      "text/plain": [
       "<Figure size 432x288 with 1 Axes>"
      ]
     },
     "metadata": {},
     "output_type": "display_data"
    }
   ],
   "source": [
    "plt.figure()\n",
    "plt.plot(x,y,'o')\n",
    "plt.plot(x_for_plotting, y_for_plotting.data.numpy(), 'r-')\n",
    "plt.xlabel('x')\n",
    "plt.ylabel('y')\n",
    "plt.title('2D data (#data = %d)' % N)\n",
    "plt.show()"
   ]
  },
  {
   "cell_type": "code",
   "execution_count": null,
   "metadata": {},
   "outputs": [],
   "source": []
  }
 ],
 "metadata": {
  "kernelspec": {
   "display_name": "Python 3",
   "language": "python",
   "name": "python3"
  },
  "language_info": {
   "codemirror_mode": {
    "name": "ipython",
    "version": 3
   },
   "file_extension": ".py",
   "mimetype": "text/x-python",
   "name": "python",
   "nbconvert_exporter": "python",
   "pygments_lexer": "ipython3",
   "version": "3.6.5"
  }
 },
 "nbformat": 4,
 "nbformat_minor": 2
}
