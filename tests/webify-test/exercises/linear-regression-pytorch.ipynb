{
 "cells": [
  {
   "cell_type": "markdown",
   "metadata": {},
   "source": [
    "# Linear Regression using PyTorch"
   ]
  },
  {
   "cell_type": "code",
   "execution_count": 79,
   "metadata": {},
   "outputs": [],
   "source": [
    "import matplotlib.pyplot as plt\n",
    "%matplotlib inline\n",
    "import numpy as np"
   ]
  },
  {
   "cell_type": "code",
   "execution_count": 80,
   "metadata": {},
   "outputs": [
    {
     "data": {
      "image/png": "[encoded data removed]",
      "text/plain": [
       "<Figure size 432x288 with 1 Axes>"
      ]
     },
     "metadata": {},
     "output_type": "display_data"
    }
   ],
   "source": [
    "N = 10 # number of data points\n",
    "x = np.linspace(0,2*np.pi,N)\n",
    "y = np.sin(x) + np.random.normal(0,.3,x.shape)\n",
    "plt.figure()\n",
    "plt.plot(x,y,'o')\n",
    "plt.xlabel('x')\n",
    "plt.ylabel('y')\n",
    "plt.title('2D data (#data = %d)' % N)\n",
    "plt.show()"
   ]
  },
  {
   "cell_type": "code",
   "execution_count": 81,
   "metadata": {},
   "outputs": [],
   "source": [
    "import torch"
   ]
  },
  {
   "cell_type": "markdown",
   "metadata": {},
   "source": [
    "## Dataset"
   ]
  },
  {
   "cell_type": "code",
   "execution_count": 82,
   "metadata": {},
   "outputs": [],
   "source": [
    "from torch.utils.data import Dataset\n",
    "class MyDataset(Dataset):\n",
    "    def __init__(self, x, y):\n",
    "        self.x = x\n",
    "        self.y = y\n",
    "        \n",
    "    def __len__(self):\n",
    "        return len(self.x)\n",
    "    \n",
    "    def __getitem__(self, idx):\n",
    "        sample = {\n",
    "            'feature': torch.tensor([1,self.x[idx]]), \n",
    "            'label': torch.tensor([self.y[idx]])}\n",
    "        return sample"
   ]
  },
  {
   "cell_type": "code",
   "execution_count": 13,
   "metadata": {},
   "outputs": [
    {
     "name": "stdout",
     "output_type": "stream",
     "text": [
      "0 tensor([1., 0.]) tensor([0.0717])\n",
      "1 tensor([1.0000, 0.6981]) tensor([0.2358])\n",
      "2 tensor([1.0000, 1.3963]) tensor([1.3582])\n",
      "3 tensor([1.0000, 2.0944]) tensor([1.2558])\n",
      "4 tensor([1.0000, 2.7925]) tensor([0.6923])\n",
      "5 tensor([1.0000, 3.4907]) tensor([-0.5425])\n",
      "6 tensor([1.0000, 4.1888]) tensor([-0.2859])\n",
      "7 tensor([1.0000, 4.8869]) tensor([-1.5182])\n",
      "8 tensor([1.0000, 5.5851]) tensor([-0.7034])\n",
      "9 tensor([1.0000, 6.2832]) tensor([0.6770])\n"
     ]
    }
   ],
   "source": [
    "dataset = MyDataset(x, y)\n",
    "for i in range(len(dataset)):\n",
    "    sample = dataset[i]\n",
    "    print(i, sample['feature'], sample['label'])"
   ]
  },
  {
   "cell_type": "markdown",
   "metadata": {},
   "source": [
    "## Dataloader"
   ]
  },
  {
   "cell_type": "code",
   "execution_count": 14,
   "metadata": {},
   "outputs": [],
   "source": [
    "from torch.utils.data import DataLoader\n",
    "\n",
    "dataset = MyDataset(x, y)\n",
    "batch_size = 4\n",
    "shuffle = True\n",
    "num_workers = 4\n",
    "dataloader = DataLoader(dataset, batch_size=batch_size, shuffle=shuffle, num_workers=num_workers)"
   ]
  },
  {
   "cell_type": "code",
   "execution_count": 19,
   "metadata": {},
   "outputs": [
    {
     "name": "stdout",
     "output_type": "stream",
     "text": [
      "\n",
      "batch# = 0\n",
      "samples: \n",
      "{'feature': tensor([[1.0000, 4.8869],\n",
      "        [1.0000, 6.2832],\n",
      "        [1.0000, 5.5851],\n",
      "        [1.0000, 0.0000]]),\n",
      " 'label': tensor([[-1.5182],\n",
      "        [ 0.6770],\n",
      "        [-0.7034],\n",
      "        [ 0.0717]])}\n",
      "\n",
      "batch# = 1\n",
      "samples: \n",
      "{'feature': tensor([[1.0000, 0.6981],\n",
      "        [1.0000, 1.3963],\n",
      "        [1.0000, 4.1888],\n",
      "        [1.0000, 3.4907]]),\n",
      " 'label': tensor([[ 0.2358],\n",
      "        [ 1.3582],\n",
      "        [-0.2859],\n",
      "        [-0.5425]])}\n",
      "\n",
      "batch# = 2\n",
      "samples: \n",
      "{'feature': tensor([[1.0000, 2.0944],\n",
      "        [1.0000, 2.7925]]),\n",
      " 'label': tensor([[1.2558],\n",
      "        [0.6923]])}\n"
     ]
    }
   ],
   "source": [
    "import pprint as pp\n",
    "for i_batch, samples in enumerate(dataloader):\n",
    "    print('\\nbatch# = %s' % i_batch)\n",
    "    print('samples: ')\n",
    "    pp.pprint(samples)"
   ]
  },
  {
   "cell_type": "markdown",
   "metadata": {},
   "source": [
    "## Model"
   ]
  },
  {
   "cell_type": "code",
   "execution_count": 24,
   "metadata": {},
   "outputs": [],
   "source": [
    "import torch.nn as nn\n",
    "import torch.nn.functional as F\n",
    "class MyModel(nn.Module):\n",
    "    def __init__(self, input_dim, output_dim):\n",
    "        super(MyModel, self).__init__()\n",
    "        self.linear = nn.Linear(input_dim, output_dim)\n",
    "        \n",
    "    def forward(self, x):\n",
    "        out = self.linear(x)\n",
    "        return out"
   ]
  },
  {
   "cell_type": "markdown",
   "metadata": {},
   "source": [
    "### Setting a model for our problem"
   ]
  },
  {
   "cell_type": "code",
   "execution_count": 26,
   "metadata": {},
   "outputs": [],
   "source": [
    "input_dim = 2\n",
    "output_dim = 1\n",
    "\n",
    "model = MyModel(input_dim, output_dim)"
   ]
  },
  {
   "cell_type": "markdown",
   "metadata": {},
   "source": [
    "## Cost function\n",
    "\n",
    "Often called loss or error"
   ]
  },
  {
   "cell_type": "code",
   "execution_count": 39,
   "metadata": {},
   "outputs": [],
   "source": [
    "cost = nn.MSELoss()"
   ]
  },
  {
   "cell_type": "markdown",
   "metadata": {},
   "source": [
    "## Minimizing the cost function\n",
    "\n",
    "In other words training (or learning from data)"
   ]
  },
  {
   "cell_type": "code",
   "execution_count": 51,
   "metadata": {},
   "outputs": [
    {
     "name": "stdout",
     "output_type": "stream",
     "text": [
      "Epoch = 0\n",
      "\tBatch = 0, Error = 0.518193244934082\n",
      "\tBatch = 1, Error = 0.4353530704975128\n",
      "\tBatch = 2, Error = 1.3510209321975708\n",
      "Epoch = 1\n",
      "\tBatch = 0, Error = 0.563149631023407\n",
      "\tBatch = 1, Error = 0.5132748484611511\n",
      "\tBatch = 2, Error = 1.1007386445999146\n",
      "Epoch = 2\n",
      "\tBatch = 0, Error = 0.4281182289123535\n",
      "\tBatch = 1, Error = 0.6110122799873352\n",
      "\tBatch = 2, Error = 1.3985527753829956\n",
      "Epoch = 3\n",
      "\tBatch = 0, Error = 0.5820314288139343\n",
      "\tBatch = 1, Error = 0.8040990829467773\n",
      "\tBatch = 2, Error = 0.4797106087207794\n",
      "Epoch = 4\n",
      "\tBatch = 0, Error = 0.45292630791664124\n",
      "\tBatch = 1, Error = 0.8768678307533264\n",
      "\tBatch = 2, Error = 0.629550039768219\n",
      "Epoch = 5\n",
      "\tBatch = 0, Error = 0.8033242225646973\n",
      "\tBatch = 1, Error = 0.7512571811676025\n",
      "\tBatch = 2, Error = 0.3279489278793335\n",
      "Epoch = 6\n",
      "\tBatch = 0, Error = 0.44895708560943604\n",
      "\tBatch = 1, Error = 0.5521496534347534\n",
      "\tBatch = 2, Error = 1.559319257736206\n",
      "Epoch = 7\n",
      "\tBatch = 0, Error = 1.1045701503753662\n",
      "\tBatch = 1, Error = 0.19252537190914154\n",
      "\tBatch = 2, Error = 0.7429182529449463\n",
      "Epoch = 8\n",
      "\tBatch = 0, Error = 1.0077080726623535\n",
      "\tBatch = 1, Error = 0.22970551252365112\n",
      "\tBatch = 2, Error = 0.5845246911048889\n",
      "Epoch = 9\n",
      "\tBatch = 0, Error = 0.4237987995147705\n",
      "\tBatch = 1, Error = 1.0910742282867432\n",
      "\tBatch = 2, Error = 0.10605788975954056\n"
     ]
    }
   ],
   "source": [
    "num_epochs = 10  # How many times the entire training data is seen?\n",
    "l_rate = 0.01\n",
    "optimiser = torch.optim.SGD(model.parameters(), lr = l_rate) \n",
    "\n",
    "dataset = MyDataset(x, y)\n",
    "batch_size = 4\n",
    "shuffle = True\n",
    "num_workers = 4\n",
    "training_sample_generator = DataLoader(dataset, batch_size=batch_size, shuffle=shuffle, num_workers=num_workers)\n",
    "\n",
    "for epoch in range(num_epochs):\n",
    "    print('Epoch = %s' % epoch)\n",
    "    for batch_i, samples in enumerate(training_sample_generator):\n",
    "        predictions = model(samples['feature'])\n",
    "        error = cost(predictions, samples['label'])\n",
    "        print('\\tBatch = %s, Error = %s' % (batch_i, error.item()))\n",
    "        \n",
    "        # Before the backward pass, use the optimizer object to zero all of the\n",
    "        # gradients for the variables it will update (which are the learnable\n",
    "        # weights of the model). This is because by default, gradients are\n",
    "        # accumulated in buffers( i.e, not overwritten) whenever .backward()\n",
    "        # is called. Checkout docs of torch.autograd.backward for more details.\n",
    "        optimiser.zero_grad()\n",
    "        \n",
    "        # Backward pass: compute gradient of the loss with respect to model\n",
    "        # parameters\n",
    "        error.backward()\n",
    "        \n",
    "        # Calling the step function on an Optimizer makes an update to its\n",
    "        # parameters\n",
    "        optimiser.step()"
   ]
  },
  {
   "cell_type": "markdown",
   "metadata": {},
   "source": [
    "## Lets see how well the model has learnt the data"
   ]
  },
  {
   "cell_type": "code",
   "execution_count": 77,
   "metadata": {},
   "outputs": [
    {
     "name": "stdout",
     "output_type": "stream",
     "text": [
      "Design matrix shape: torch.Size([1000, 2])\n",
      "y_for_plotting shape: torch.Size([1000, 1])\n"
     ]
    }
   ],
   "source": [
    "#from torch.autograd.variable import Variable\n",
    "\n",
    "x_for_plotting = np.linspace(0, 2*np.pi, 1000)\n",
    "design_matrix = torch.tensor(np.vstack([np.ones(x_for_plotting.shape), x_for_plotting]).T, dtype=torch.float32)\n",
    "#print('Design matrix:\\n', design_matrix)\n",
    "print('Design matrix shape:', design_matrix.shape)\n",
    "\n",
    "y_for_plotting = model.forward(design_matrix)\n",
    "print('y_for_plotting shape:', y_for_plotting.shape)"
   ]
  },
  {
   "cell_type": "code",
   "execution_count": 78,
   "metadata": {},
   "outputs": [
    {
     "data": {
      "image/png": "[encoded data removed]",
      "text/plain": [
       "<Figure size 432x288 with 1 Axes>"
      ]
     },
     "metadata": {},
     "output_type": "display_data"
    }
   ],
   "source": [
    "plt.figure()\n",
    "plt.plot(x,y,'o')\n",
    "plt.plot(x_for_plotting, y_for_plotting.data.numpy(), 'r-')\n",
    "plt.xlabel('x')\n",
    "plt.ylabel('y')\n",
    "plt.title('2D data (#data = %d)' % N)\n",
    "plt.show()"
   ]
  },
  {
   "cell_type": "code",
   "execution_count": null,
   "metadata": {},
   "outputs": [],
   "source": []
  }
 ],
 "metadata": {
  "kernelspec": {
   "display_name": "Python 3",
   "language": "python",
   "name": "python3"
  },
  "language_info": {
   "codemirror_mode": {
    "name": "ipython",
    "version": 3
   },
   "file_extension": ".py",
   "mimetype": "text/x-python",
   "name": "python",
   "nbconvert_exporter": "python",
   "pygments_lexer": "ipython3",
   "version": "3.6.5"
  }
 },
 "nbformat": 4,
 "nbformat_minor": 2
}
