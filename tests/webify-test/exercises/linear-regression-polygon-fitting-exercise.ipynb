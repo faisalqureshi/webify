{
 "cells": [
  {
   "cell_type": "markdown",
   "metadata": {},
   "source": [
    "# Exploring linear regression"
   ]
  },
  {
   "cell_type": "code",
   "execution_count": null,
   "metadata": {},
   "outputs": [],
   "source": [
    "import numpy as np\n",
    "import matplotlib.pyplot as plt\n",
    "%matplotlib inline\n",
    "import time\n",
    "import pylab as pl\n",
    "from IPython import display\n",
    "\n",
    "np.random.seed(0)"
   ]
  },
  {
   "cell_type": "code",
   "execution_count": null,
   "metadata": {},
   "outputs": [],
   "source": [
    "N = 10 # number of data points\n",
    "x = np.linspace(0,2*np.pi,N)\n",
    "y = np.sin(x) + np.random.normal(0,.3,x.shape)\n",
    "plt.figure()\n",
    "plt.plot(x,y,'o')\n",
    "plt.xlabel('x')\n",
    "plt.ylabel('y')\n",
    "plt.title('2D data (#data = %d)' % N)\n",
    "plt.show()"
   ]
  },
  {
   "cell_type": "markdown",
   "metadata": {},
   "source": [
    "## Complete the following tasks\n",
    "\n",
    "1. Complete the following function\n",
    "\n",
    "~~~\n",
    "def polyfit(x,y,degree,delta):\n",
    "    \"\"\"\n",
    "    Fits a polynomial to 2D data (x,y)\n",
    "    \n",
    "    Arguments:\n",
    "        x, y -- x and y data points\n",
    "        degree -- polynomial degree\n",
    "        delta -- regularization parameter\n",
    "        \n",
    "    Returns:\n",
    "        Fitted parameters theta, where y = p(x) = \\sum_{i=0}^degree \\theta_i x^i\n",
    "    \"\"\"\n",
    "~~~\n",
    "\n",
    "2. Complete the following function\n",
    "\n",
    "~~~\n",
    "def polyeval(theta, x):\n",
    "    \"\"\"\n",
    "    Evaluates a 1D polynomial (i.e., fitted to 2D points (x,y))\n",
    "    \n",
    "    Arguments:\n",
    "        x -- points at which we want to evaluate the polynomial\n",
    "        theta -- polynomial parameters\n",
    "        \n",
    "    Returns:\n",
    "        p(x) -- where p(x) = \\sum_{i=0}^degree \\theta_i x^i\n",
    "    \"\"\"\n",
    "~~~\n",
    "\n",
    "3. Write down a routine that performs polygon fitting using gradient descent.  Recall that the least squares cost is $J(\\theta) = (\\mathbf{X} \\theta - \\mathbf{Y})^T(\\mathbf{X} \\theta - \\mathbf{Y})$."
   ]
  },
  {
   "cell_type": "code",
   "execution_count": null,
   "metadata": {},
   "outputs": [],
   "source": []
  }
 ],
 "metadata": {
  "kernelspec": {
   "display_name": "Python 3",
   "language": "python",
   "name": "python3"
  },
  "language_info": {
   "codemirror_mode": {
    "name": "ipython",
    "version": 3
   },
   "file_extension": ".py",
   "mimetype": "text/x-python",
   "name": "python",
   "nbconvert_exporter": "python",
   "pygments_lexer": "ipython3",
   "version": "3.6.5"
  }
 },
 "nbformat": 4,
 "nbformat_minor": 2
}
