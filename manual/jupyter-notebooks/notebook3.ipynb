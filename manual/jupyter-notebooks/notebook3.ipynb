{
 "cells": [
  {
   "cell_type": "code",
   "execution_count": null,
   "id": "d4438b85-7853-45dd-a023-15aa4e2a07ec",
   "metadata": {},
   "outputs": [],
   "source": [
    "print('No title and no lesson plan.')"
   ]
  },
  {
   "cell_type": "code",
   "execution_count": null,
   "id": "71d7b39d-7c7b-465e-b4ee-65fcce96ab55",
   "metadata": {},
   "outputs": [],
   "source": []
  }
 ],
 "metadata": {
  "kernelspec": {
   "display_name": "Python 3",
   "language": "python",
   "name": "python3"
  },
  "language_info": {
   "codemirror_mode": {
    "name": "ipython",
    "version": 3
   },
   "file_extension": ".py",
   "mimetype": "text/x-python",
   "name": "python",
   "nbconvert_exporter": "python",
   "pygments_lexer": "ipython3",
   "version": "3.9.12"
  }
 },
 "nbformat": 4,
 "nbformat_minor": 5
}
