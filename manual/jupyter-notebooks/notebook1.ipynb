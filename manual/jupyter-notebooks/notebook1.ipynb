{
 "cells": [
  {
   "cell_type": "markdown",
   "id": "dd13feae-2dab-464c-b6f1-0490d3d25fd6",
   "metadata": {},
   "source": [
    "# Notebook 1 "
   ]
  },
  {
   "cell_type": "markdown",
   "id": "4b0fc4fb-59f7-4226-a0a9-a41bfc52ec93",
   "metadata": {},
   "source": [
    "## Lesson Plan\n",
    "\n",
    "- Item 1\n",
    "- Item 2\n",
    "    - Item 2a\n",
    "    - Item 2b ($x^2$)\n",
    "- Item 3"
   ]
  },
  {
   "cell_type": "code",
   "execution_count": null,
   "id": "3ae0fb40-6eb6-4323-bfb2-0fdb35dbf447",
   "metadata": {},
   "outputs": [],
   "source": [
    "print('This file has both a title and a lesson plan')"
   ]
  },
  {
   "cell_type": "code",
   "execution_count": null,
   "id": "cd7212e5-873a-40be-ab39-acde73509872",
   "metadata": {},
   "outputs": [],
   "source": []
  }
 ],
 "metadata": {
  "kernelspec": {
   "display_name": "Python 3",
   "language": "python",
   "name": "python3"
  },
  "language_info": {
   "codemirror_mode": {
    "name": "ipython",
    "version": 3
   },
   "file_extension": ".py",
   "mimetype": "text/x-python",
   "name": "python",
   "nbconvert_exporter": "python",
   "pygments_lexer": "ipython3",
   "version": "3.9.12"
  }
 },
 "nbformat": 4,
 "nbformat_minor": 5
}
