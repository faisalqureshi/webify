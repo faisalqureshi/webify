{
 "cells": [
  {
   "cell_type": "markdown",
   "id": "e0161642-6494-4757-82af-7b382a3b5c4a",
   "metadata": {},
   "source": [
    "# Notebook 2"
   ]
  },
  {
   "cell_type": "code",
   "execution_count": null,
   "id": "24f12f64-64bc-4e22-8c3f-263b69b87101",
   "metadata": {},
   "outputs": [],
   "source": [
    "print('This file has no lesson plan, but it has a title.')"
   ]
  },
  {
   "cell_type": "code",
   "execution_count": null,
   "id": "584badb1-7e3f-4097-9229-639b2dfba94e",
   "metadata": {},
   "outputs": [],
   "source": []
  }
 ],
 "metadata": {
  "kernelspec": {
   "display_name": "Python 3",
   "language": "python",
   "name": "python3"
  },
  "language_info": {
   "codemirror_mode": {
    "name": "ipython",
    "version": 3
   },
   "file_extension": ".py",
   "mimetype": "text/x-python",
   "name": "python",
   "nbconvert_exporter": "python",
   "pygments_lexer": "ipython3",
   "version": "3.9.12"
  }
 },
 "nbformat": 4,
 "nbformat_minor": 5
}
